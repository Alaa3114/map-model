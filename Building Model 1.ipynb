{
 "cells": [
  {
   "cell_type": "code",
   "execution_count": 1,
   "id": "2c6258ee",
   "metadata": {},
   "outputs": [
    {
     "name": "stdout",
     "output_type": "stream",
     "text": [
      "Requirement already satisfied: cobra in c:\\users\\al-momen\\anaconda3\\lib\\site-packages (0.24.0)\n",
      "Note: you may need to restart the kernel to use updated packages.Requirement already satisfied: future in c:\\users\\al-momen\\anaconda3\\lib\\site-packages (from cobra) (0.18.2)\n",
      "Requirement already satisfied: depinfo~=1.7 in c:\\users\\al-momen\\anaconda3\\lib\\site-packages (from cobra) (1.7.0)\n",
      "Requirement already satisfied: ruamel.yaml~=0.16 in c:\\users\\al-momen\\anaconda3\\lib\\site-packages (from cobra) (0.17.21)\n",
      "Requirement already satisfied: pydantic~=1.6 in c:\\users\\al-momen\\anaconda3\\lib\\site-packages (from cobra) (1.9.0)\n",
      "Requirement already satisfied: pandas~=1.0 in c:\\users\\al-momen\\anaconda3\\lib\\site-packages (from cobra) (1.3.4)\n",
      "Requirement already satisfied: appdirs~=1.4 in c:\\users\\al-momen\\anaconda3\\lib\\site-packages (from cobra) (1.4.4)\n",
      "Requirement already satisfied: rich>=8.0 in c:\\users\\al-momen\\anaconda3\\lib\\site-packages (from cobra) (11.2.0)\n",
      "Requirement already satisfied: python-libsbml==5.19.2 in c:\\users\\al-momen\\anaconda3\\lib\\site-packages (from cobra) (5.19.2)\n",
      "Requirement already satisfied: httpx~=0.14 in c:\\users\\al-momen\\anaconda3\\lib\\site-packages (from cobra) (0.22.0)\n",
      "Requirement already satisfied: importlib-resources in c:\\users\\al-momen\\anaconda3\\lib\\site-packages (from cobra) (5.4.0)\n",
      "Requirement already satisfied: diskcache~=5.0 in c:\\users\\al-momen\\anaconda3\\lib\\site-packages (from cobra) (5.4.0)\n",
      "Requirement already satisfied: numpy~=1.13 in c:\\users\\al-momen\\anaconda3\\lib\\site-packages (from cobra) (1.20.3)\n",
      "\n",
      "Requirement already satisfied: swiglpk in c:\\users\\al-momen\\anaconda3\\lib\\site-packages (from cobra) (5.0.4)\n",
      "Requirement already satisfied: optlang~=1.5 in c:\\users\\al-momen\\anaconda3\\lib\\site-packages (from cobra) (1.5.2)\n",
      "Requirement already satisfied: httpcore<0.15.0,>=0.14.5 in c:\\users\\al-momen\\anaconda3\\lib\\site-packages (from httpx~=0.14->cobra) (0.14.7)\n",
      "Requirement already satisfied: rfc3986[idna2008]<2,>=1.3 in c:\\users\\al-momen\\anaconda3\\lib\\site-packages (from httpx~=0.14->cobra) (1.5.0)\n",
      "Requirement already satisfied: charset-normalizer in c:\\users\\al-momen\\anaconda3\\lib\\site-packages (from httpx~=0.14->cobra) (2.0.4)\n",
      "Requirement already satisfied: certifi in c:\\users\\al-momen\\anaconda3\\lib\\site-packages (from httpx~=0.14->cobra) (2021.10.8)\n",
      "Requirement already satisfied: sniffio in c:\\users\\al-momen\\anaconda3\\lib\\site-packages (from httpx~=0.14->cobra) (1.2.0)\n",
      "Requirement already satisfied: anyio==3.* in c:\\users\\al-momen\\anaconda3\\lib\\site-packages (from httpcore<0.15.0,>=0.14.5->httpx~=0.14->cobra) (3.5.0)\n",
      "Requirement already satisfied: h11<0.13,>=0.11 in c:\\users\\al-momen\\anaconda3\\lib\\site-packages (from httpcore<0.15.0,>=0.14.5->httpx~=0.14->cobra) (0.12.0)\n",
      "Requirement already satisfied: idna>=2.8 in c:\\users\\al-momen\\anaconda3\\lib\\site-packages (from anyio==3.*->httpcore<0.15.0,>=0.14.5->httpx~=0.14->cobra) (3.2)\n",
      "Requirement already satisfied: six>=1.9 in c:\\users\\al-momen\\anaconda3\\lib\\site-packages (from optlang~=1.5->cobra) (1.16.0)\n",
      "Requirement already satisfied: sympy>=1.0 in c:\\users\\al-momen\\anaconda3\\lib\\site-packages (from optlang~=1.5->cobra) (1.9)\n",
      "Requirement already satisfied: python-dateutil>=2.7.3 in c:\\users\\al-momen\\anaconda3\\lib\\site-packages (from pandas~=1.0->cobra) (2.8.2)\n",
      "Requirement already satisfied: pytz>=2017.3 in c:\\users\\al-momen\\anaconda3\\lib\\site-packages (from pandas~=1.0->cobra) (2021.3)\n",
      "Requirement already satisfied: typing-extensions>=3.7.4.3 in c:\\users\\al-momen\\anaconda3\\lib\\site-packages (from pydantic~=1.6->cobra) (3.10.0.2)\n",
      "Requirement already satisfied: pygments<3.0.0,>=2.6.0 in c:\\users\\al-momen\\anaconda3\\lib\\site-packages (from rich>=8.0->cobra) (2.10.0)\n",
      "Requirement already satisfied: commonmark<0.10.0,>=0.9.0 in c:\\users\\al-momen\\anaconda3\\lib\\site-packages (from rich>=8.0->cobra) (0.9.1)\n",
      "Requirement already satisfied: colorama<0.5.0,>=0.4.0 in c:\\users\\al-momen\\anaconda3\\lib\\site-packages (from rich>=8.0->cobra) (0.4.4)\n",
      "Requirement already satisfied: ruamel.yaml.clib>=0.2.6 in c:\\users\\al-momen\\anaconda3\\lib\\site-packages (from ruamel.yaml~=0.16->cobra) (0.2.6)\n",
      "Requirement already satisfied: mpmath>=0.19 in c:\\users\\al-momen\\anaconda3\\lib\\site-packages (from sympy>=1.0->optlang~=1.5->cobra) (1.2.1)\n",
      "Requirement already satisfied: zipp>=3.1.0 in c:\\users\\al-momen\\anaconda3\\lib\\site-packages (from importlib-resources->cobra) (3.6.0)\n"
     ]
    }
   ],
   "source": [
    "pip install cobra"
   ]
  },
  {
   "cell_type": "code",
   "execution_count": 6,
   "id": "45b1ac7e",
   "metadata": {},
   "outputs": [],
   "source": [
    "from cobra import Model,Reaction,Metabolite"
   ]
  },
  {
   "cell_type": "code",
   "execution_count": 7,
   "id": "59c77345",
   "metadata": {},
   "outputs": [],
   "source": [
    "model=Model('Model 1')"
   ]
  },
  {
   "cell_type": "code",
   "execution_count": 8,
   "id": "9f3f0d27",
   "metadata": {},
   "outputs": [],
   "source": [
    "A=Metabolite('A',compartment='c')\n",
    "B=Metabolite('B',compartment='c')\n",
    "C=Metabolite('C',compartment='c')"
   ]
  },
  {
   "cell_type": "code",
   "execution_count": 9,
   "id": "e1582f58",
   "metadata": {},
   "outputs": [],
   "source": [
    "v1=Reaction('v1')\n",
    "v1.name='v1'\n",
    "v1.lower_bound=0\n",
    "v1.upper_bound=1000\n"
   ]
  },
  {
   "cell_type": "code",
   "execution_count": 11,
   "id": "c29c1619",
   "metadata": {},
   "outputs": [],
   "source": [
    "M=Reaction('M')\n",
    "M.name='M'\n",
    "M.lower_bound=0\n",
    "M.upper_bound=1000"
   ]
  },
  {
   "cell_type": "code",
   "execution_count": 12,
   "id": "258d84d9",
   "metadata": {},
   "outputs": [],
   "source": [
    "v0=Reaction('v0')\n",
    "v0.name='v0'\n",
    "v0.lower_bound=20\n",
    "v0.upper_bound=20"
   ]
  },
  {
   "cell_type": "code",
   "execution_count": 13,
   "id": "b3a8348b",
   "metadata": {},
   "outputs": [],
   "source": [
    "v3=Reaction('v3')\n",
    "v3.name='v3'\n",
    "v3.lower_bound=18\n",
    "v3.upper_bound=18"
   ]
  },
  {
   "cell_type": "code",
   "execution_count": 15,
   "id": "e21ae4ce",
   "metadata": {},
   "outputs": [],
   "source": [
    "v4=Reaction('v4')\n",
    "v4.name='v4'\n",
    "v4.lower_bound=0\n",
    "v4.upper_bound=1000"
   ]
  },
  {
   "cell_type": "code",
   "execution_count": 16,
   "id": "aeec81f7",
   "metadata": {},
   "outputs": [],
   "source": [
    "A=Metabolite('A',compartment='c')\n",
    "B=Metabolite('B',compartment='c')\n",
    "C=Metabolite('C',compartment='c')\n",
    "ATP=Metabolite('ATP',compartment='c')"
   ]
  },
  {
   "cell_type": "code",
   "execution_count": 18,
   "id": "7d930c52",
   "metadata": {},
   "outputs": [],
   "source": [
    "#V1= A---->B\n",
    "\n",
    "v1.add_metabolites({A:-1,B:1})\n",
    "\n",
    "#V2= B--->C\n",
    "\n",
    "v2.add_metabolites({B:-1,C:1})\n",
    "\n",
    "#V0= --->A\n",
    "\n",
    "v0.add_metabolites({A:1})\n",
    "\n",
    "#V3= A--->ATP\n",
    "\n",
    "v3.add_metabolites({A:-1,ATP:1})\n",
    "\n",
    "#V4= ATP--->\n",
    "\n",
    "v4.add_metabolites({ATP:-1})\n",
    "\n",
    "#M= C--->\n",
    "\n",
    "M.add_metabolites({C:-1})"
   ]
  },
  {
   "cell_type": "code",
   "execution_count": 25,
   "id": "fd938705",
   "metadata": {},
   "outputs": [
    {
     "name": "stderr",
     "output_type": "stream",
     "text": [
      "Ignoring reaction 'v0' since it already exists.\n",
      "Ignoring reaction 'v1' since it already exists.\n",
      "Ignoring reaction 'v2' since it already exists.\n",
      "Ignoring reaction 'v3' since it already exists.\n",
      "Ignoring reaction 'v4' since it already exists.\n",
      "Ignoring reaction 'M' since it already exists.\n"
     ]
    }
   ],
   "source": [
    "model.add_reactions([v0,v1,v2,v3,v4,M])"
   ]
  },
  {
   "cell_type": "markdown",
   "id": "0a3cc36f",
   "metadata": {},
   "source": [
    "model.objective='M'"
   ]
  },
  {
   "cell_type": "code",
   "execution_count": 22,
   "id": "67bf72fb",
   "metadata": {},
   "outputs": [],
   "source": [
    "model.objective='M'"
   ]
  },
  {
   "cell_type": "code",
   "execution_count": 23,
   "id": "4e1ddf1e",
   "metadata": {},
   "outputs": [
    {
     "data": {
      "text/html": [
       "<strong><em>Optimal</em> solution with objective value 19.100</strong><br><div>\n",
       "<style scoped>\n",
       "    .dataframe tbody tr th:only-of-type {\n",
       "        vertical-align: middle;\n",
       "    }\n",
       "\n",
       "    .dataframe tbody tr th {\n",
       "        vertical-align: top;\n",
       "    }\n",
       "\n",
       "    .dataframe thead th {\n",
       "        text-align: right;\n",
       "    }\n",
       "</style>\n",
       "<table border=\"1\" class=\"dataframe\">\n",
       "  <thead>\n",
       "    <tr style=\"text-align: right;\">\n",
       "      <th></th>\n",
       "      <th>fluxes</th>\n",
       "      <th>reduced_costs</th>\n",
       "    </tr>\n",
       "  </thead>\n",
       "  <tbody>\n",
       "    <tr>\n",
       "      <th>v0</th>\n",
       "      <td>20.00</td>\n",
       "      <td>2.0</td>\n",
       "    </tr>\n",
       "    <tr>\n",
       "      <th>v1</th>\n",
       "      <td>9.55</td>\n",
       "      <td>0.0</td>\n",
       "    </tr>\n",
       "    <tr>\n",
       "      <th>v2</th>\n",
       "      <td>19.10</td>\n",
       "      <td>0.0</td>\n",
       "    </tr>\n",
       "    <tr>\n",
       "      <th>v3</th>\n",
       "      <td>0.90</td>\n",
       "      <td>-2.0</td>\n",
       "    </tr>\n",
       "    <tr>\n",
       "      <th>v4</th>\n",
       "      <td>0.90</td>\n",
       "      <td>0.0</td>\n",
       "    </tr>\n",
       "    <tr>\n",
       "      <th>M</th>\n",
       "      <td>19.10</td>\n",
       "      <td>0.0</td>\n",
       "    </tr>\n",
       "  </tbody>\n",
       "</table>\n",
       "</div>"
      ],
      "text/plain": [
       "<Solution 19.100 at 0x1e4cf569370>"
      ]
     },
     "execution_count": 23,
     "metadata": {},
     "output_type": "execute_result"
    }
   ],
   "source": [
    "model.optimize()"
   ]
  },
  {
   "cell_type": "code",
   "execution_count": 24,
   "id": "457b5f4f",
   "metadata": {},
   "outputs": [
    {
     "data": {
      "text/html": [
       "<h3>Objective</h3><p>1.0 M = 19.1</p><h4>Uptake</h4><table border=\"1\" class=\"dataframe\">\n",
       "  <thead>\n",
       "    <tr style=\"text-align: right;\">\n",
       "      <th>Metabolite</th>\n",
       "      <th>Reaction</th>\n",
       "      <th>Flux</th>\n",
       "      <th>C-Number</th>\n",
       "      <th>C-Flux</th>\n",
       "    </tr>\n",
       "  </thead>\n",
       "  <tbody>\n",
       "    <tr>\n",
       "      <td>A</td>\n",
       "      <td>v0</td>\n",
       "      <td>20</td>\n",
       "      <td>0</td>\n",
       "      <td>0.00%</td>\n",
       "    </tr>\n",
       "  </tbody>\n",
       "</table><h4>Secretion</h4><table border=\"1\" class=\"dataframe\">\n",
       "  <thead>\n",
       "    <tr style=\"text-align: right;\">\n",
       "      <th>Metabolite</th>\n",
       "      <th>Reaction</th>\n",
       "      <th>Flux</th>\n",
       "      <th>C-Number</th>\n",
       "      <th>C-Flux</th>\n",
       "    </tr>\n",
       "  </thead>\n",
       "  <tbody>\n",
       "    <tr>\n",
       "      <td>C</td>\n",
       "      <td>M</td>\n",
       "      <td>-19.1</td>\n",
       "      <td>0</td>\n",
       "      <td>0.00%</td>\n",
       "    </tr>\n",
       "    <tr>\n",
       "      <td>ATP</td>\n",
       "      <td>v4</td>\n",
       "      <td>-0.9</td>\n",
       "      <td>0</td>\n",
       "      <td>0.00%</td>\n",
       "    </tr>\n",
       "  </tbody>\n",
       "</table>"
      ],
      "text/plain": [
       "<cobra.summary.model_summary.ModelSummary at 0x1e4cf5cf4c0>"
      ]
     },
     "execution_count": 24,
     "metadata": {},
     "output_type": "execute_result"
    }
   ],
   "source": [
    "model.summary()"
   ]
  },
  {
   "cell_type": "code",
   "execution_count": null,
   "id": "1bb4f890",
   "metadata": {},
   "outputs": [],
   "source": []
  }
 ],
 "metadata": {
  "kernelspec": {
   "display_name": "Python 3 (ipykernel)",
   "language": "python",
   "name": "python3"
  },
  "language_info": {
   "codemirror_mode": {
    "name": "ipython",
    "version": 3
   },
   "file_extension": ".py",
   "mimetype": "text/x-python",
   "name": "python",
   "nbconvert_exporter": "python",
   "pygments_lexer": "ipython3",
   "version": "3.9.7"
  }
 },
 "nbformat": 4,
 "nbformat_minor": 5
}
